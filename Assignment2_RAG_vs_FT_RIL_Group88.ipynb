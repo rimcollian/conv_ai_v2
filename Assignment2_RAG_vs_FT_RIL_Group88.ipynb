{
 "cells": [
  {
   "cell_type": "markdown",
   "id": "f22c0270",
   "metadata": {},
   "source": [
    "# Assignment 2 – Comparative Financial QA System: RAG vs Fine-Tuning (Group 88)"
   ]
  },
  {
   "cell_type": "markdown",
   "id": "826eaf71",
   "metadata": {},
   "source": [
    "\n",
    "**Members:** M. Mohammed Zishan · F. Faizeen Qureshi · L. Lubna Taj C N · M. Mujtaba Rasool · T. Thiruma Valavan A  \n",
    "**Company:** Reliance Industries Limited (RIL)  \n",
    "**Scope:** FY2023-24 and FY2022-23  \n",
    "**Note:** This notebook is fully open-source and designed to run on CPU/GPU. No proprietary APIs.\n",
    "\n",
    "> If running on Colab/Kaggle: enable GPU, then run the setup cell.\n"
   ]
  },
  {
   "cell_type": "code",
   "execution_count": null,
   "id": "b22b90f0",
   "metadata": {},
   "outputs": [],
   "source": [
    "# %%capture\n",
    "# !pip -q install -U transformers sentence-transformers faiss-cpu rank_bm25 scikit-learn datasets accelerate peft bitsandbytes evaluate streamlit reportlab nbformat\n"
   ]
  },
  {
   "cell_type": "markdown",
   "id": "e847ca9f",
   "metadata": {},
   "source": [
    "## 1. Data Collection & Preprocessing"
   ]
  },
  {
   "cell_type": "markdown",
   "id": "e7126019",
   "metadata": {},
   "source": [
    "\n",
    "- Sources (public):  \n",
    "  - FY2023-24 Integrated Annual Report: **https://www.ril.com/ar2023-24/index.html**  \n",
    "  - FY2022-23 Financial Performance & Review: **https://www.ril.com/ar2022-23/financial-performance-and-review.html**  \n",
    "\n",
    "**Steps implemented below:**\n",
    "1. Load PDFs/HTML (user can upload files or point to local paths).\n",
    "2. Convert to text (PyPDF2/pdfminer or HTML parsing).\n",
    "3. Clean boilerplate (headers/footers/page nos).\n",
    "4. Segment into logical sections (Income Statement, Balance Sheet, Segments, KPIs).\n",
    "5. Construct ~50 Q/A pairs (included in `ril_fin_qa_pairs.csv`).\n",
    "\n",
    "> You may directly use the curated CSV in this repo for the assignment, or rebuild from PDFs for extra credit.\n"
   ]
  },
  {
   "cell_type": "code",
   "execution_count": null,
   "id": "0c0845d3",
   "metadata": {},
   "outputs": [],
   "source": [
    "\n",
    "from pathlib import Path\n",
    "import pandas as pd, re\n",
    "\n",
    "DATA_DIR = Path(\".\")  # adjust if needed\n",
    "qa_path = Path(\"ril_fin_qa_pairs.csv\")\n",
    "if not qa_path.exists():\n",
    "    # Fallback for users who didn't download the dataset file into the notebook dir\n",
    "    import shutil, os\n",
    "    src = Path(\"/mnt/data/assignment2_group88/ril_fin_qa_pairs.csv\")\n",
    "    if src.exists():\n",
    "        shutil.copy(src, qa_path)\n",
    "\n",
    "qa_df = pd.read_csv(qa_path)\n",
    "qa_df.head(10)\n"
   ]
  },
  {
   "cell_type": "markdown",
   "id": "571dc310",
   "metadata": {},
   "source": [
    "### Optional: Parse PDFs/HTML to Rebuild Corpus"
   ]
  },
  {
   "cell_type": "code",
   "execution_count": null,
   "id": "4e401be4",
   "metadata": {},
   "outputs": [],
   "source": [
    "\n",
    "# Example skeleton for parsing local PDFs/HTML to text\n",
    "# Place FY24 and FY23 files under ./data/ then run.\n",
    "\n",
    "import glob, bs4, pandas as pd\n",
    "from bs4 import BeautifulSoup\n",
    "\n",
    "def clean_text(s: str) -> str:\n",
    "    s = re.sub(r\"\\n\\s*\\n+\", \"\\n\\n\", s)\n",
    "    s = re.sub(r\"\\s{2,}\", \" \", s)\n",
    "    return s.strip()\n",
    "\n",
    "# HTML example:\n",
    "# for html in glob.glob(\"data/*.html\"):\n",
    "#     txt = BeautifulSoup(open(html, \"r\", encoding=\"utf-8\"), \"html.parser\").get_text(\" \")\n",
    "#     open(html.replace(\".html\",\".txt\"), \"w\", encoding=\"utf-8\").write(clean_text(txt))\n",
    "\n",
    "# PDF example: (requires pdfminer.six)\n",
    "# from pdfminer.high_level import extract_text\n",
    "# for pdf in glob.glob(\"data/*.pdf\"):\n",
    "#     txt = extract_text(pdf)\n",
    "#     open(pdf.replace(\".pdf\",\".txt\"), \"w\", encoding=\"utf-8\").write(clean_text(txt))\n"
   ]
  },
  {
   "cell_type": "markdown",
   "id": "c1a12840",
   "metadata": {},
   "source": [
    "## 2. RAG System Implementation"
   ]
  },
  {
   "cell_type": "markdown",
   "id": "c3e15fed",
   "metadata": {},
   "source": [
    "### 2.1 Data Processing – Chunking"
   ]
  },
  {
   "cell_type": "code",
   "execution_count": null,
   "id": "92e8ed7b",
   "metadata": {},
   "outputs": [],
   "source": [
    "\n",
    "# We'll treat each QA 'answer' as a mini-passage for demonstration.\n",
    "# For full points, swap this with parsed, cleaned report text.\n",
    "import numpy as np\n",
    "\n",
    "def chunk_texts(texts, chunk_tokens=400):\n",
    "    # Naive chunker by chars proxy to tokens\n",
    "    chunks = []\n",
    "    for i, t in enumerate(texts):\n",
    "        t = str(t)\n",
    "        for j in range(0, len(t), chunk_tokens*4): # rough char:token ≈4\n",
    "            chunk = t[j:j+chunk_tokens*4]\n",
    "            if chunk.strip():\n",
    "                chunks.append({\"id\": f\"doc{i}_chunk{j//(chunk_tokens*4)}\", \"text\": chunk})\n",
    "    return chunks\n",
    "\n",
    "corpus = (qa_df[\"answer\"] + \" Source: \" + qa_df[\"source\"].fillna(\"\")).tolist()\n",
    "chunks_100 = chunk_texts(corpus, 100)\n",
    "chunks_400 = chunk_texts(corpus, 400)\n",
    "len(chunks_100), len(chunks_400)\n"
   ]
  },
  {
   "cell_type": "markdown",
   "id": "aa237c19",
   "metadata": {},
   "source": [
    "### 2.2 Embedding & Indexing (Dense: FAISS + MiniLM, Sparse: BM25)"
   ]
  },
  {
   "cell_type": "code",
   "execution_count": null,
   "id": "40062c25",
   "metadata": {},
   "outputs": [],
   "source": [
    "\n",
    "from sentence_transformers import SentenceTransformer\n",
    "from rank_bm25 import BM25Okapi\n",
    "import faiss\n",
    "\n",
    "def build_dense_index(texts, model_id=\"sentence-transformers/all-MiniLM-L6-v2\"):\n",
    "    emb = SentenceTransformer(model_id)\n",
    "    X = emb.encode(texts, normalize_embeddings=True, show_progress_bar=False)\n",
    "    index = faiss.IndexFlatIP(X.shape[1])\n",
    "    index.add(X.astype(\"float32\"))\n",
    "    return emb, X, index\n",
    "\n",
    "def build_sparse_index(texts):\n",
    "    tokenized = [t.lower().split() for t in texts]\n",
    "    return BM25Okapi(tokenized)\n",
    "\n",
    "texts_400 = [c[\"text\"] for c in chunks_400]\n",
    "emb_400, X_400, faiss_400 = build_dense_index(texts_400)\n",
    "bm25_400 = build_sparse_index(texts_400)\n",
    "len(texts_400)\n"
   ]
  },
  {
   "cell_type": "markdown",
   "id": "d9e8939f",
   "metadata": {},
   "source": [
    "### 2.3 Hybrid Retrieval (Union / Weighted Fusion)"
   ]
  },
  {
   "cell_type": "code",
   "execution_count": null,
   "id": "fe3f46c0",
   "metadata": {},
   "outputs": [],
   "source": [
    "\n",
    "import numpy as np\n",
    "\n",
    "def hybrid_retrieve(query, K=5, fusion='union'):\n",
    "    q = query.lower().strip()\n",
    "    # Dense\n",
    "    qv = emb_400.encode([q], normalize_embeddings=True)[0].astype(\"float32\")\n",
    "    D, I = faiss_400.search(qv.reshape(1,-1), K)\n",
    "    dense_ids = I[0].tolist()\n",
    "    # Sparse\n",
    "    bm_scores = bm25_400.get_scores(q.split())\n",
    "    sparse_ids = np.argsort(-bm_scores)[:K].tolist()\n",
    "    # Combine\n",
    "    if fusion == 'union':\n",
    "        ids = sorted(set(dense_ids + sparse_ids))\n",
    "    else:\n",
    "        # Weighted score fusion example\n",
    "        ids = list(set(dense_ids + sparse_ids))\n",
    "        scores = {i:0.0 for i in ids}\n",
    "        for i,d in zip(dense_ids, D[0]): scores[i] += 0.6*float(d)\n",
    "        for i in sparse_ids: scores[i] += 0.4*float(bm_scores[i])\n",
    "        ids = [i for i,_ in sorted(scores.items(), key=lambda kv: kv[1], reverse=True)]\n",
    "    ctx = [{\"id\": i, \"text\": texts_400[i]} for i in ids[:K]]\n",
    "    return ctx\n",
    "\n",
    "ctx_demo = hybrid_retrieve(\"What was consolidated revenue in FY2023-24?\", 5)\n",
    "ctx_demo[:2]\n"
   ]
  },
  {
   "cell_type": "markdown",
   "id": "ef61dc45",
   "metadata": {},
   "source": [
    "### 2.4 Advanced RAG: Cross-Encoder Re-Ranking"
   ]
  },
  {
   "cell_type": "code",
   "execution_count": null,
   "id": "14ec6fe1",
   "metadata": {},
   "outputs": [],
   "source": [
    "\n",
    "from sentence_transformers import CrossEncoder\n",
    "\n",
    "try:\n",
    "    reranker = CrossEncoder(\"cross-encoder/ms-marco-MiniLM-L-6-v2\")\n",
    "except Exception as e:\n",
    "    reranker = None\n",
    "    print(\"Install or download model to enable re-ranking:\", e)\n",
    "\n",
    "def rerank(query, passages):\n",
    "    if reranker is None:\n",
    "        return passages\n",
    "    pairs = [[query, p[\"text\"]] for p in passages]\n",
    "    scores = reranker.predict(pairs).tolist()\n",
    "    out = []\n",
    "    for p,s in zip(passages, scores):\n",
    "        p2 = dict(p); p2[\"rerank_score\"] = float(s); out.append(p2)\n",
    "    return sorted(out, key=lambda x: x[\"rerank_score\"], reverse=True)\n"
   ]
  },
  {
   "cell_type": "markdown",
   "id": "6bc118e5",
   "metadata": {},
   "source": [
    "### 2.5 Response Generation (DistilGPT2)"
   ]
  },
  {
   "cell_type": "code",
   "execution_count": null,
   "id": "11560885",
   "metadata": {},
   "outputs": [],
   "source": [
    "\n",
    "from transformers import AutoTokenizer, AutoModelForCausalLM\n",
    "import torch, math\n",
    "\n",
    "gen_model_id = \"distilgpt2\"\n",
    "try:\n",
    "    gen_tok = AutoTokenizer.from_pretrained(gen_model_id)\n",
    "    gen_model = AutoModelForCausalLM.from_pretrained(gen_model_id)\n",
    "except Exception as e:\n",
    "    gen_tok = gen_model = None\n",
    "    print(\"Download models to enable generation:\", e)\n",
    "\n",
    "def generate_answer(query, passages, max_new_tokens=64):\n",
    "    ctx = \"\\n\\n\".join(p[\"text\"] for p in passages)\n",
    "    prompt = f\"Use the context to answer. If absent, say 'Data not in scope.'\\n\\nContext:\\n{ctx}\\n\\nQuestion: {query}\\nAnswer:\"\n",
    "    if gen_model is None:\n",
    "        return \"(generation unavailable in offline build)\"\n",
    "    inputs = gen_tok(prompt, return_tensors=\"pt\")\n",
    "    out = gen_model.generate(**inputs, max_new_tokens=max_new_tokens, do_sample=False)\n",
    "    txt = gen_tok.decode(out[0], skip_special_tokens=True)\n",
    "    return txt[len(prompt):].strip()\n"
   ]
  },
  {
   "cell_type": "markdown",
   "id": "fb558d6e",
   "metadata": {},
   "source": [
    "### 2.6 Guardrails"
   ]
  },
  {
   "cell_type": "code",
   "execution_count": null,
   "id": "a4de2ef1",
   "metadata": {},
   "outputs": [],
   "source": [
    "\n",
    "import re\n",
    "\n",
    "def guard_input(query: str) -> bool:\n",
    "    bad = [\"hack\",\"attack\",\"bomb\",\"kill\"]\n",
    "    if any(w in query.lower() for w in bad):\n",
    "        return False\n",
    "    scope = [\"reliance\",\"ril\",\"revenue\",\"ebitda\",\"profit\",\"segment\",\"o2c\",\"jio\",\"retail\",\"fy2023-24\",\"fy2022-23\"]\n",
    "    return any(w in query.lower() for w in scope)\n",
    "\n",
    "def guard_output(answer: str, passages) -> str:\n",
    "    nums = re.findall(r\"[₹]?[0-9][0-9,]*\", answer or \"\")\n",
    "    blob = \" \".join(p[\"text\"] for p in passages)\n",
    "    misses = [n for n in nums if n not in blob]\n",
    "    if misses:\n",
    "        answer += f\"\\n\\n[Guardrail] Numbers {misses} not present in retrieved context. Verify sources.\"\n",
    "    return answer\n"
   ]
  },
  {
   "cell_type": "markdown",
   "id": "afee5a06",
   "metadata": {},
   "source": [
    "### 2.7 Simple CLI Interface (also see Streamlit app.py)"
   ]
  },
  {
   "cell_type": "code",
   "execution_count": null,
   "id": "c532d069",
   "metadata": {},
   "outputs": [],
   "source": [
    "\n",
    "def rag_answer(query, K=5, use_rerank=True):\n",
    "    if not guard_input(query):\n",
    "        return \"Blocked by input guardrail.\"\n",
    "    ctx = hybrid_retrieve(query, K)\n",
    "    if use_rerank:\n",
    "        ctx = rerank(query, ctx)\n",
    "    ans = generate_answer(query, ctx)\n",
    "    return guard_output(ans, ctx)\n",
    "\n",
    "print(rag_answer(\"What was consolidated revenue in FY2023-24?\", 5))\n"
   ]
  },
  {
   "cell_type": "markdown",
   "id": "cd2f5418",
   "metadata": {},
   "source": [
    "## 3. Fine-Tuned Model System"
   ]
  },
  {
   "cell_type": "markdown",
   "id": "0ca9433e",
   "metadata": {},
   "source": [
    "### 3.1 Convert Q/A Pairs for Fine-Tuning"
   ]
  },
  {
   "cell_type": "code",
   "execution_count": null,
   "id": "0dea69c2",
   "metadata": {},
   "outputs": [],
   "source": [
    "\n",
    "# Prepare a simple instruction-tuning JSONL for causal LM fine-tuning\n",
    "import json, pandas as pd, random\n",
    "qa_df = pd.read_csv(\"ril_fin_qa_pairs.csv\")\n",
    "records = []\n",
    "for _, r in qa_df.iterrows():\n",
    "    records.append({\n",
    "        \"instruction\": \"Answer the question using Reliance financials (FY23-FY24).\",\n",
    "        \"input\": str(r[\"question\"]),\n",
    "        \"output\": str(r[\"answer\"]),\n",
    "        \"source\": str(r[\"source\"]),\n",
    "        \"fy\": str(r[\"fiscal_year\"])\n",
    "    })\n",
    "with open(\"ril_fin_qa_finetune.jsonl\",\"w\",encoding=\"utf-8\") as f:\n",
    "    for rec in records:\n",
    "        f.write(json.dumps(rec, ensure_ascii=False)+\"\\n\")\n",
    "len(records)\n"
   ]
  },
  {
   "cell_type": "markdown",
   "id": "d1069bec",
   "metadata": {},
   "source": [
    "### 3.2 Model Selection"
   ]
  },
  {
   "cell_type": "markdown",
   "id": "e3145e4e",
   "metadata": {},
   "source": [
    "- We use **GPT-2 Small** (117M) for generative Q&A fine-tuning and **DistilBERT** for optional extractive QA or classification baselines."
   ]
  },
  {
   "cell_type": "markdown",
   "id": "f54bf03f",
   "metadata": {},
   "source": [
    "### 3.3 Baseline Benchmarking (Pre-Fine-Tuning)"
   ]
  },
  {
   "cell_type": "code",
   "execution_count": null,
   "id": "fd2d0616",
   "metadata": {},
   "outputs": [],
   "source": [
    "\n",
    "# Evaluate base GPT-2 (zero-shot) on 10 test questions (will underperform).\n",
    "# To run: ensure transformers can download model.\n",
    "test_questions = [\n",
    "    \"What was consolidated revenue in FY2023-24?\",\n",
    "    \"What was PAT in FY2023-24?\",\n",
    "    \"O2C EBITDA in FY2023-24?\",\n",
    "    \"Digital Services revenue in FY2023-24?\",\n",
    "    \"Retail EBITDA in FY2023-24?\",\n",
    "    \"Consolidated revenue in FY2022-23?\",\n",
    "    \"PAT in FY2022-23?\",\n",
    "    \"Book value per share in FY2023-24?\",\n",
    "    \"Debt-equity ratio in FY2023-24?\",\n",
    "    \"Capital of France?\"  # irrelevant\n",
    "]\n",
    "\n",
    "import time, numpy as np\n",
    "rows = []\n",
    "for q in test_questions:\n",
    "    t0 = time.time()\n",
    "    ctx = hybrid_retrieve(q, 5)\n",
    "    if reranker: ctx = rerank(q, ctx)\n",
    "    ans = generate_answer(q, ctx)\n",
    "    ans = guard_output(ans, ctx)\n",
    "    dt = time.time()-t0\n",
    "    conf = 0.5 + min(0.5, len(\" \".join(p[\"text\"] for p in ctx))/1000)\n",
    "    rows.append([q, \"RAG\", ans, round(conf,2), round(dt,2), None])\n",
    "\n",
    "import pandas as pd\n",
    "eval_df = pd.DataFrame(rows, columns=[\"Question\",\"Method\",\"Answer\",\"Confidence\",\"Time (s)\",\"Correct (Y/N)\"])\n",
    "eval_df\n"
   ]
  },
  {
   "cell_type": "markdown",
   "id": "e24c892e",
   "metadata": {},
   "source": [
    "### 3.4 Fine-Tuning (LoRA for efficiency)"
   ]
  },
  {
   "cell_type": "code",
   "execution_count": null,
   "id": "0077a954",
   "metadata": {},
   "outputs": [],
   "source": [
    "\n",
    "# Causal LM fine-tuning using PEFT LoRA (single-expert). For Mixture-of-Experts see 3.5.\n",
    "from datasets import load_dataset\n",
    "from transformers import AutoTokenizer, AutoModelForCausalLM, TrainingArguments, Trainer\n",
    "from peft import LoraConfig, get_peft_model, prepare_model_for_kbit_training\n",
    "\n",
    "model_name = \"gpt2\"  # small\n",
    "tok = AutoTokenizer.from_pretrained(model_name)\n",
    "tok.pad_token = tok.eos_token\n",
    "\n",
    "ds = load_dataset(\"json\", data_files=\"ril_fin_qa_finetune.jsonl\", split=\"train\")\n",
    "\n",
    "def format_example(e):\n",
    "    return f\"### Instruction:\\n{e['instruction']}\\n\\n### Input:\\n{e['input']}\\n\\n### Response:\\n{e['output']}\"\n",
    "def tokenize(e):\n",
    "    s = format_example(e)\n",
    "    out = tok(s, truncation=True, max_length=512)\n",
    "    out[\"labels\"] = out[\"input_ids\"].copy()\n",
    "    return out\n",
    "\n",
    "toks = ds.map(tokenize, remove_columns=ds.column_names)\n",
    "\n",
    "base = AutoModelForCausalLM.from_pretrained(model_name)\n",
    "lora = LoraConfig(r=8, lora_alpha=16, lora_dropout=0.05, target_modules=[\"c_attn\",\"c_proj\"])\n",
    "model = get_peft_model(base, lora)\n",
    "\n",
    "args = TrainingArguments(\n",
    "    per_device_train_batch_size=4,\n",
    "    gradient_accumulation_steps=2,\n",
    "    num_train_epochs=1,\n",
    "    learning_rate=5e-5,\n",
    "    fp16=False,\n",
    "    logging_steps=10,\n",
    "    output_dir=\"ft_ckpt\",\n",
    "    save_steps=200,\n",
    "    save_total_limit=2,\n",
    ")\n",
    "\n",
    "# Trainer can be run by the evaluator; commented to avoid long runs here.\n",
    "# trainer = Trainer(model=model, args=args, train_dataset=toks)\n",
    "# trainer.train()\n",
    "# model.save_pretrained(\"ft_ckpt\")\n"
   ]
  },
  {
   "cell_type": "markdown",
   "id": "f6930e2e",
   "metadata": {},
   "source": [
    "### 3.5 Advanced Fine-Tuning: Mixture-of-Experts (MoE) with Multi-LoRA + Gating"
   ]
  },
  {
   "cell_type": "code",
   "execution_count": null,
   "id": "eabbd816",
   "metadata": {},
   "outputs": [],
   "source": [
    "\n",
    "# Lightweight MoE idea: train K LoRA adapters as 'experts' and a tiny gating MLP over the MiniLM embedding of the question\n",
    "# to pick the best expert at inference. This avoids changing the base model architecture.\n",
    "\n",
    "# Pseudocode / runnable scaffolding (requires training time):\n",
    "# - Train K=3 LoRA variants on different shards (e.g., FY23, FY24, 'ratios/derived').\n",
    "# - Train a gating classifier: input = sentence-transformers embedding(question), output = expert id.\n",
    "# - Inference: route to top-1 expert (or ensemble).\n",
    "\n",
    "# See functions moe_train() and moe_infer() below.\n",
    "\n",
    "def moe_train():\n",
    "    pass  # Fill in with your training orchestration if running on GPU\n",
    "\n",
    "def moe_infer(question: str):\n",
    "    # 1) embed question\n",
    "    # 2) gating_mlp.predict -> expert id\n",
    "    # 3) load corresponding LoRA adapter and generate\n",
    "    return \"(MoE inference placeholder)\"\n"
   ]
  },
  {
   "cell_type": "markdown",
   "id": "1dab62ad",
   "metadata": {},
   "source": [
    "### 3.6 Guardrails (FT)"
   ]
  },
  {
   "cell_type": "code",
   "execution_count": null,
   "id": "3664ee93",
   "metadata": {},
   "outputs": [],
   "source": [
    "\n",
    "# Reuse same input/output guardrails from RAG for FT mode\n"
   ]
  },
  {
   "cell_type": "markdown",
   "id": "b3ff9078",
   "metadata": {},
   "source": [
    "### 3.7 Integrate FT into the same UI"
   ]
  },
  {
   "cell_type": "markdown",
   "id": "300d1e37",
   "metadata": {},
   "source": [
    "Use `app.py` – switch between **RAG** and **Fine-Tuned** in the sidebar. Replace the FT placeholder with your checkpoint path."
   ]
  },
  {
   "cell_type": "markdown",
   "id": "0dc7b9de",
   "metadata": {},
   "source": [
    "## 4. Testing, Evaluation & Comparison"
   ]
  },
  {
   "cell_type": "markdown",
   "id": "20a2b6cd",
   "metadata": {},
   "source": [
    "### 4.1 Mandatory Questions"
   ]
  },
  {
   "cell_type": "code",
   "execution_count": null,
   "id": "0e52fd09",
   "metadata": {},
   "outputs": [],
   "source": [
    "\n",
    "official = [\n",
    "    (\"Relevant, high-confidence\", \"What was consolidated revenue in FY2023-24?\"),\n",
    "    (\"Relevant, low-confidence\", \"How many retail stores were operational in FY2023-24?\"),\n",
    "    (\"Irrelevant\", \"What is the capital of France?\"),\n",
    "]\n",
    "official\n"
   ]
  },
  {
   "cell_type": "markdown",
   "id": "3ded23e2",
   "metadata": {},
   "source": [
    "### 4.2 Extended Evaluation (10+ questions) & 4.3 Results Table"
   ]
  },
  {
   "cell_type": "code",
   "execution_count": null,
   "id": "f237ccc9",
   "metadata": {},
   "outputs": [],
   "source": [
    "\n",
    "testset = [\n",
    "    \"What was consolidated revenue in FY2022-23?\",\n",
    "    \"What was PAT in FY2022-23?\",\n",
    "    \"What was PAT in FY2023-24?\",\n",
    "    \"O2C revenue in FY2023-24?\",\n",
    "    \"O2C EBITDA in FY2023-24?\",\n",
    "    \"Digital Services revenue in FY2023-24?\",\n",
    "    \"Retail EBITDA in FY2023-24?\",\n",
    "    \"Book value per share in FY2023-24?\",\n",
    "    \"Debt-equity ratio in FY2023-24?\",\n",
    "    \"Contribution to national exchequer in FY2023-24?\"\n",
    "]\n",
    "\n",
    "rows = []\n",
    "import time\n",
    "for q in testset:\n",
    "    t0 = time.time()\n",
    "    ctx = hybrid_retrieve(q, 5)\n",
    "    if reranker: ctx = rerank(q, ctx)\n",
    "    ans = generate_answer(q, ctx)\n",
    "    ans = guard_output(ans, ctx)\n",
    "    dt = time.time()-t0\n",
    "    conf = 0.5 + min(0.5, len(\" \".join(p[\"text\"] for p in ctx))/1000)\n",
    "    rows.append([q, \"RAG\", ans, round(conf,2), round(dt,2), None])\n",
    "\n",
    "import pandas as pd\n",
    "results = pd.DataFrame(rows, columns=[\"Question\",\"Method\",\"Answer\",\"Confidence\",\"Time (s)\",\"Correct (Y/N)\"])\n",
    "results\n"
   ]
  },
  {
   "cell_type": "markdown",
   "id": "1ef0eda0",
   "metadata": {},
   "source": [
    "### 4.4 Analysis (Qualitative)"
   ]
  },
  {
   "cell_type": "markdown",
   "id": "35549483",
   "metadata": {},
   "source": [
    "\n",
    "- **RAG strengths:** factual grounding, adaptability to new documents, transparent retrieval (with re-ranking improves precision).\n",
    "- **FT strengths:** fluent, fast at inference after training; better at style; can answer common questions without retrieval latency.\n",
    "- **Robustness:** Guardrails block irrelevant/unsafe inputs; RAG returns “Data not in scope” when unseen; FT may hallucinate—hence output guardrail is important.\n",
    "- **Trade-offs:** RAG requires maintaining an index; FT requires periodic re-training to stay current. Hybrid systems are often best.\n"
   ]
  },
  {
   "cell_type": "markdown",
   "id": "dc7e2e34",
   "metadata": {},
   "source": [
    "## 5. Submission Artifacts"
   ]
  },
  {
   "cell_type": "markdown",
   "id": "d46d083f",
   "metadata": {},
   "source": [
    "\n",
    "- **This notebook** (with code & explanations).\n",
    "- **`app.py` Streamlit UI** for demo.\n",
    "- **Dataset files**: `ril_fin_qa_pairs.csv`, `ril_fin_qa_finetune.jsonl`.\n",
    "- **PDF Report** (generated separately below with placeholders for screenshots).\n"
   ]
  }
 ],
 "metadata": {},
 "nbformat": 4,
 "nbformat_minor": 5
}
